{
 "cells": [
  {
   "cell_type": "code",
   "execution_count": 1,
   "metadata": {
    "collapsed": true
   },
   "outputs": [],
   "source": [
    "import pandas as pd\n",
    "import numpy as np\n",
    "import matplotlib.pyplot as plt\n",
    "%matplotlib inline"
   ]
  },
  {
   "cell_type": "code",
   "execution_count": 41,
   "metadata": {},
   "outputs": [],
   "source": [
    "saledf = pd.read_excel('週年慶.xlsx')\n",
    "sale_cdf = saledf.copy()\n",
    "sale_cdf.start = sale_cdf.start.str.replace(\"/\",\"-\")\n",
    "sale_cdf.end = sale_cdf.end.str.replace(\"/\",\"-\")\n",
    "sale_cdf.year = sale_cdf.year.astype(\"str\")\n",
    "sale_cdf[\"year_start\"] = sale_cdf.year+ \"-\" +sale_cdf.start\n",
    "sale_cdf[\"year_end\"] = sale_cdf.year+ \"-\" +sale_cdf.end\n",
    "\n",
    "sale_save = sale_cdf.drop([\"start\",\"end\"],axis =1)\n",
    "\n",
    "# sale_save.to_excel(\"year_sale.xlsx\", index = False)\n",
    "\n",
    "sale_save.year_start = pd.to_datetime(sale_save.year_start)\n",
    "sale_save.year_end = pd.to_datetime(sale_save.year_end)\n",
    "\n",
    "sale_save = sale_save.sort_values(by=\"year_start\").reset_index(drop = True)\n",
    "\n",
    "sale_save.year_start = sale_save.year_start.astype(\"str\")\n",
    "sale_save.year_end = sale_save.year_end.astype(\"str\")"
   ]
  },
  {
   "cell_type": "code",
   "execution_count": 61,
   "metadata": {},
   "outputs": [],
   "source": [
    "sale_save.to_excel(\"year_sale.xlsx\", index = False)"
   ]
  }
 ],
 "metadata": {
  "kernelspec": {
   "display_name": "Python 3",
   "language": "python",
   "name": "python3"
  },
  "language_info": {
   "codemirror_mode": {
    "name": "ipython",
    "version": 3
   },
   "file_extension": ".py",
   "mimetype": "text/x-python",
   "name": "python",
   "nbconvert_exporter": "python",
   "pygments_lexer": "ipython3",
   "version": "3.5.3"
  }
 },
 "nbformat": 4,
 "nbformat_minor": 2
}
