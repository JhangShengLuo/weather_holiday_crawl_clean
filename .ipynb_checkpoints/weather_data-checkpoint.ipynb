{
 "cells": [
  {
   "cell_type": "code",
   "execution_count": 1,
   "metadata": {
    "collapsed": true
   },
   "outputs": [],
   "source": [
    "import pandas as pd\n",
    "import re\n",
    "import time\n",
    "import matplotlib.pyplot as plt\n",
    "import numpy as np\n",
    "import requests\n",
    "from bs4 import BeautifulSoup as bs\n",
    "from datetime import datetime, timedelta\n",
    "from itertools import repeat\n",
    "%matplotlib inline"
   ]
  },
  {
   "cell_type": "code",
   "execution_count": null,
   "metadata": {
    "collapsed": true
   },
   "outputs": [],
   "source": [
    "\"\"\"# 算出總共要幾天\n",
    "from datetime import datetime, timedelta\n",
    "start = datetime(2017, 5, 28)\n",
    "end = datetime(2014, 4, 1)\n",
    "print (start - end)\"\"\"\n"
   ]
  },
  {
   "cell_type": "code",
   "execution_count": null,
   "metadata": {
    "collapsed": true
   },
   "outputs": [],
   "source": []
  },
  {
   "cell_type": "code",
   "execution_count": null,
   "metadata": {
    "collapsed": true
   },
   "outputs": [],
   "source": []
  },
  {
   "cell_type": "code",
   "execution_count": null,
   "metadata": {},
   "outputs": [],
   "source": [
    "from datetime import datetime, timedelta\n",
    "start=datetime(2017, 5, 28)\n",
    "appdf = pd.DataFrame()\n",
    "for i in range(1,1166):\n",
    "    time.sleep(1)\n",
    "    dt = start - timedelta(days = i)\n",
    "    mytime = dt.strftime('%Y-%m-%d')\n",
    "    url=\"http://e-service.cwb.gov.tw/HistoryDataQuery/DayDataController.do?command=viewMain&station=C0AC70&stname=%25E4%25BF%25A1%25E7%25BE%25A9&datepicker={}\".format(mytime)\n",
    "    res = requests.post(url)\n",
    "    res.encoding = \"utf-8\"\n",
    "    soup = bs(res.text,'lxml')\n",
    "    tb=soup.select(\"div.CSSTableGenerator #MyTable\")\n",
    "\n",
    "    dfs = pd.read_html(tb[0].prettify('utf-8'), encoding='utf-8')\n",
    "    yet_clean=dfs[0].copy()\n",
    "    yet_clean=yet_clean.drop([0],axis=0).reset_index(drop=True)\n",
    "    new_col=[\"ObsTime\",\"StnPres\",\"SeaPres\",\"Temperature\",\"point\",\"RH\"\\\n",
    "             ,\"WS\",\"WD\",\"WSGust\",\"WDGust\",\"Precp\",\"PrecpHour\",\"SunShine\",\"GloblRad\",\"Visb\"]\n",
    "    yet_clean.columns = new_col\n",
    "    yet_clean=yet_clean.drop([0],axis=0).reset_index(drop=True)\n",
    "    yet_clean.insert(0,\"to_date\",mytime)\n",
    "    appdf=appdf.append(yet_clean)"
   ]
  },
  {
   "cell_type": "code",
   "execution_count": 3,
   "metadata": {
    "collapsed": true
   },
   "outputs": [],
   "source": [
    "appdf=appdf.dropna(how=\"all\",axis=1)"
   ]
  },
  {
   "cell_type": "code",
   "execution_count": 4,
   "metadata": {
    "collapsed": true
   },
   "outputs": [],
   "source": [
    "time_dict={}\n",
    "for i in range(1,25):\n",
    "    if len(str(i)) == 1:\n",
    "        time_dict[str(i)] = \"0\"+str(i-1)+\":00:00\"\n",
    "    elif i==10:\n",
    "        time_dict[str(i)] = \"0\"+str(i-1)+\":00:00\"\n",
    "    else:\n",
    "        time_dict[str(i)] = str(i-1)+\":00:00\""
   ]
  },
  {
   "cell_type": "code",
   "execution_count": 5,
   "metadata": {
    "collapsed": true
   },
   "outputs": [],
   "source": [
    "pattern={\"ObsTime\":time_dict}\n",
    "appdf=appdf.replace(pattern)"
   ]
  },
  {
   "cell_type": "code",
   "execution_count": 6,
   "metadata": {
    "collapsed": true
   },
   "outputs": [],
   "source": [
    "appdf = appdf.reset_index(drop=True)"
   ]
  },
  {
   "cell_type": "code",
   "execution_count": 7,
   "metadata": {
    "collapsed": true
   },
   "outputs": [],
   "source": [
    "appdf.insert(0,\"date_time\",appdf.to_date+\" \"+appdf.ObsTime)"
   ]
  },
  {
   "cell_type": "code",
   "execution_count": 8,
   "metadata": {
    "collapsed": true
   },
   "outputs": [],
   "source": [
    "appdf=appdf.drop([\"to_date\",\"ObsTime\"],axis=1)"
   ]
  },
  {
   "cell_type": "code",
   "execution_count": 9,
   "metadata": {
    "collapsed": true
   },
   "outputs": [],
   "source": [
    "appdf.to_csv(\"weather_file.csv\",index=False,encoding=\"utf-8\")"
   ]
  },
  {
   "cell_type": "code",
   "execution_count": 20,
   "metadata": {},
   "outputs": [
    {
     "data": {
      "text/plain": [
       "array([u'0', u'1'], dtype=object)"
      ]
     },
     "execution_count": 20,
     "metadata": {},
     "output_type": "execute_result"
    }
   ],
   "source": [
    "wdf = pd.read_csv(\"weather_file.csv\",encoding=\"utf-8\")\n",
    "\n",
    "pattern={\"Precp\":{\"X\":\"0\",\"0.0\":\"0\",\"0\\.[123456789]\":\"1\",\"^[123456789]\\d?\\.\\d\":\"1\"}}\n",
    "wdfr = wdf.replace(pattern,regex=True)\n",
    "\n",
    "wdfr.Precp.unique()"
   ]
  },
  {
   "cell_type": "code",
   "execution_count": 21,
   "metadata": {},
   "outputs": [
    {
     "data": {
      "text/plain": [
       "['20.5']"
      ]
     },
     "execution_count": 21,
     "metadata": {},
     "output_type": "execute_result"
    }
   ],
   "source": [
    "re.findall(\"^[123456789]\\d?\\.\\d\",\"20.50\")"
   ]
  },
  {
   "cell_type": "code",
   "execution_count": null,
   "metadata": {
    "collapsed": true
   },
   "outputs": [],
   "source": []
  },
  {
   "cell_type": "code",
   "execution_count": null,
   "metadata": {
    "collapsed": true
   },
   "outputs": [],
   "source": []
  },
  {
   "cell_type": "code",
   "execution_count": null,
   "metadata": {
    "collapsed": true
   },
   "outputs": [],
   "source": []
  },
  {
   "cell_type": "code",
   "execution_count": 23,
   "metadata": {
    "collapsed": true
   },
   "outputs": [],
   "source": [
    "wdfr.ix[:,[0,6]].to_csv(\"rain_or_not_xinyi.csv\",index=False,encoding=\"utf-8\")"
   ]
  },
  {
   "cell_type": "code",
   "execution_count": null,
   "metadata": {
    "collapsed": true
   },
   "outputs": [],
   "source": []
  }
 ],
 "metadata": {
  "anaconda-cloud": {},
  "kernelspec": {
   "display_name": "Python 3",
   "language": "python",
   "name": "python3"
  },
  "language_info": {
   "codemirror_mode": {
    "name": "ipython",
    "version": 3
   },
   "file_extension": ".py",
   "mimetype": "text/x-python",
   "name": "python",
   "nbconvert_exporter": "python",
   "pygments_lexer": "ipython3",
   "version": "3.5.3"
  }
 },
 "nbformat": 4,
 "nbformat_minor": 1
}
