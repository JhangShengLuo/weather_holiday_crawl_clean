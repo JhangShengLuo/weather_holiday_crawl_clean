{
 "cells": [
  {
   "cell_type": "code",
   "execution_count": 1,
   "metadata": {
    "collapsed": true
   },
   "outputs": [],
   "source": [
    "import pandas as pd\n",
    "import matplotlib.pyplot as plt\n",
    "%matplotlib inline\n",
    "import numpy as np"
   ]
  },
  {
   "cell_type": "code",
   "execution_count": 6,
   "metadata": {},
   "outputs": [],
   "source": [
    "# Encoding categorical data\n",
    "# read which day is holiday in holiday.xlsx\n",
    "holidf = pd.read_excel(\"holiday_or_not.xlsx\")\n",
    "holidf.index = pd.to_datetime(holidf.date_to)\n",
    "holidf = holidf.resample(\"D\").mean()\n",
    "holidf[\"week_day\"] = holidf.index.dayofweek\n",
    "zerona = holidf.fillna(0)\n",
    "zerona.loc[zerona.week_day.isin([5,6]),\"holiday\"] = 1\n",
    "zerona.loc[zerona.index == \"2017-02-18\",'holiday'] = 0\n",
    "zerona.loc[zerona.index == \"2017-06-03\",'holiday'] = 0\n",
    "zerona = zerona.reset_index()\n",
    "zerona = zerona.drop(\"week_day\", axis=1)\n",
    "# 把未來一週的假日減一週的時間，再merge回data就是本週資料加下週的假日\n",
    "# zerona.date_to = zerona.date_to + pd.Timedelta(-7, unit='D')\n"
   ]
  },
  {
   "cell_type": "code",
   "execution_count": 7,
   "metadata": {
    "collapsed": true
   },
   "outputs": [],
   "source": [
    "zerona.to_csv(\"holiday_expand.csv\", index=False)"
   ]
  },
  {
   "cell_type": "code",
   "execution_count": null,
   "metadata": {
    "collapsed": true
   },
   "outputs": [],
   "source": []
  }
 ],
 "metadata": {
  "kernelspec": {
   "display_name": "Python 3",
   "language": "python",
   "name": "python3"
  },
  "language_info": {
   "codemirror_mode": {
    "name": "ipython",
    "version": 3
   },
   "file_extension": ".py",
   "mimetype": "text/x-python",
   "name": "python",
   "nbconvert_exporter": "python",
   "pygments_lexer": "ipython3",
   "version": "3.5.3"
  }
 },
 "nbformat": 4,
 "nbformat_minor": 1
}
